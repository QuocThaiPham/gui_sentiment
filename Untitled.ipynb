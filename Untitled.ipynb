{
 "cells": [
  {
   "cell_type": "code",
   "execution_count": 1,
   "id": "ae0cb902-d5e3-447a-8063-bb0c2d0d5316",
   "metadata": {},
   "outputs": [],
   "source": [
    "%load_ext autoreload\n",
    "%autoreload 2\n",
    "    \n",
    "import numpy as np\n",
    "import pandas as pd\n",
    "from Project1.Code.project_transformer import Data_Wrangling\n",
    "import pickle\n",
    "import matplotlib.pyplot as plt\n",
    "import seaborn as sns\n",
    "from Project1.Code.utilities import display_emotion, get_top_duplicated_words, create_adj_wordcloud, restaurant_sentiment_analysis, get_dict_word #preprocessing_text"
   ]
  },
  {
   "cell_type": "code",
   "execution_count": 33,
   "id": "1fafbcef-b5a8-4e5b-90b7-5fdbf5a4ec01",
   "metadata": {},
   "outputs": [],
   "source": [
    "def preprocessing_text(text,\n",
    "                       cleanser,\n",
    "                       vector_model,  # ='resources/countvectorizer_model.pkl',\n",
    "                       tfidf_model):  # 'resources/tfidf_model.pkl'\n",
    "    #clean_text = cleanser.process_text(text=text)\n",
    "    #clean_text = cleanser.convert_unicode(str(clean_text))\n",
    "    clean_text = cleanser.process_postag_thesea(text)\n",
    "    print(clean_text)\n",
    "    # initialize countvectorizer and TFIDF\n",
    "    vectorizer = vector_model\n",
    "    tfidf = tfidf_model\n",
    "\n",
    "    # transform X_test\n",
    "    _pre_X_test = vectorizer.transform([clean_text])\n",
    "    _pre_X_test = tfidf.transform(_pre_X_test)\n",
    "\n",
    "    return _pre_X_test"
   ]
  },
  {
   "cell_type": "code",
   "execution_count": 2,
   "id": "48d1ffaa-9785-4da1-8d22-4b92bba35899",
   "metadata": {},
   "outputs": [],
   "source": [
    "# ----------------- INITIALIZATION -----------------\n",
    "emoji_dict = get_dict_word(file_path='Project1/DATA_shopeefood/files/emojicon.txt')  # Emoji\n",
    "teen_dict = get_dict_word(file_path='Project1/DATA_shopeefood/files/teencode.txt')  # Teen\n",
    "eng_dict = get_dict_word(file_path='Project1/DATA_shopeefood/files/english-vnmese.txt')  # eng\n",
    "\n",
    "with open('Project1/DATA_shopeefood/files/wrong-word.txt', 'r', encoding=\"utf8\") as file:  # WRONG WORD\n",
    "    wrong_lst = file.read().split('\\n')\n",
    "\n",
    "with open('Project1/DATA_shopeefood/files/vietnamese-stopwords.txt', 'r', encoding=\"utf8\") as file:  # STOP WORD\n",
    "    stop_lst = file.read().split('\\n')\n",
    "\n",
    "# GET CLEANSER\n",
    "cleanser = Data_Wrangling(emoji_dict=emoji_dict,\n",
    "                          teen_dict=teen_dict,\n",
    "                          wrong_lst=wrong_lst,\n",
    "                          eng_vn_dict=eng_dict,\n",
    "                          stop_words=stop_lst)\n",
    "# Model Vectorize and TFIDF\n",
    "with open('resources/countvectorizer_model.pkl', 'rb') as f:\n",
    "    vec_m = pickle.load(f)\n",
    "with open('resources/tfidf_model.pkl', 'rb') as f_2:\n",
    "    tfidf_m = pickle.load(f_2)"
   ]
  },
  {
   "cell_type": "code",
   "execution_count": 8,
   "id": "e47055ec-824c-49b0-a099-2eb6f4a3e6b5",
   "metadata": {},
   "outputs": [
    {
     "data": {
      "text/plain": [
       "'- ngon: 49 words\\n- thơm: 28 words\\n- nhiều: 23 words\\n- hơn: 18 words\\n- ngọt: 18 words'"
      ]
     },
     "execution_count": 8,
     "metadata": {},
     "output_type": "execute_result"
    }
   ],
   "source": [
    "a = [('ngon', 49), ('thơm', 28), ('nhiều', 23), ('hơn', 18), ('ngọt', 18)]\n",
    "'\\n'.join([f\"- {v[0]}: {v[1]} words\" for v in a])\n",
    "    # text = f\"- {v[0]}: {v[1]} words\"\n",
    "    # print(text)"
   ]
  },
  {
   "cell_type": "code",
   "execution_count": null,
   "id": "06a057c4-dccd-42eb-bb3c-8630c8006297",
   "metadata": {},
   "outputs": [],
   "source": []
  }
 ],
 "metadata": {
  "kernelspec": {
   "display_name": "Python 3 (ipykernel)",
   "language": "python",
   "name": "python3"
  },
  "language_info": {
   "codemirror_mode": {
    "name": "ipython",
    "version": 3
   },
   "file_extension": ".py",
   "mimetype": "text/x-python",
   "name": "python",
   "nbconvert_exporter": "python",
   "pygments_lexer": "ipython3",
   "version": "3.9.18"
  }
 },
 "nbformat": 4,
 "nbformat_minor": 5
}
